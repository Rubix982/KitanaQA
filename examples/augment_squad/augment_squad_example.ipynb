{
 "cells": [
  {
   "cell_type": "code",
   "execution_count": 1,
   "metadata": {},
   "outputs": [],
   "source": [
    "# This example covers the basics of augmenting an existing SQuAD-like dataset with various types of noise."
   ]
  },
  {
   "cell_type": "code",
   "execution_count": 2,
   "metadata": {},
   "outputs": [],
   "source": [
    "from transformers.data.processors.squad import SquadResult, SquadV1Processor, SquadV2Processor, squad_convert_examples_to_features"
   ]
  },
  {
   "cell_type": "code",
   "execution_count": 4,
   "metadata": {},
   "outputs": [],
   "source": [
    "# Load SQuAD dev set from package\n",
    "import pkg_resources\n",
    "import json\n",
    "data_file = pkg_resources.resource_filename(\n",
    "            'katanaqa', 'support/dev-v1.1.json')\n",
    "with open(data_file, 'r') as f:\n",
    "    data = json.load(f)"
   ]
  },
  {
   "cell_type": "code",
   "execution_count": 5,
   "metadata": {},
   "outputs": [],
   "source": [
    "# Define augmentation parameters\n",
    "hparams = {\n",
    "    \"num_replacements\": 2,  # Replace up to 2 terms in the original question for each example\n",
    "    \"sample_ratio\":     0.0001,  # Generate augmentations for 0.1% of original dataset size\n",
    "    \"sampling_strategy\":'random',  # Randomly sample replacement tokens (excluding entities)\n",
    "    \"sampling_k\":       5,  # Only consider the 5 highest importance scores across tokens\n",
    "    \"is_training\":      False,  # Using dev dataset\n",
    "    \"out_prefix\":       'dev',\n",
    "    \"save_freq\":        1000,\n",
    "    \"p_misspelling\":    1,  # Unnormalized sampling weight for misspelling perturbation\n",
    "    \"p_replace\":        0.5,  # Unnormalized sampling weight for w2v synonym perturbation\n",
    "    \"p_dropword\":       1,  # Unnormalized sampling weight for drop term perturbation\n",
    "    \"from_checkpoint\":  False,  # Do not load progress from local checkpoint\n",
    "}"
   ]
  },
  {
   "cell_type": "code",
   "execution_count": 8,
   "metadata": {},
   "outputs": [
    {
     "name": "stderr",
     "output_type": "stream",
     "text": [
      "10/14/2020 21:07:47 - doggmentator - INFO - Running SQuADDataset with hparams {'num_replacements': 2, 'sample_ratio': 0.0001, 'p_replace': 0.5, 'p_dropword': 1, 'p_misspelling': 1, 'sampling_strategy': 'random', 'sampling_k': 5}\n",
      "10/14/2020 21:07:47 - doggmentator - DEBUG - generators.py: loading pkg data /Users/asisto/dev/Searchable/Research/Doggmentator/src/doggmentator/support/counter-fitted-vectors.txt\n"
     ]
    },
    {
     "name": "stdout",
     "output_type": "stream",
     "text": [
      "recognize_entities_dl download started this may take some time.\n",
      "Approx size to download 159 MB\n",
      "[OK!]"
     ]
    },
    {
     "name": "stderr",
     "output_type": "stream",
     "text": [
      "10/14/2020 21:07:58 - doggmentator - DEBUG - generators.py: loading pkg data /Users/asisto/dev/Searchable/Research/Doggmentator/src/doggmentator/support/missp.json\n"
     ]
    },
    {
     "name": "stdout",
     "output_type": "stream",
     "text": [
      "\n",
      "recognize_entities_dl download started this may take some time.\n",
      "Approx size to download 159 MB\n",
      "[OK!]"
     ]
    },
    {
     "name": "stderr",
     "output_type": "stream",
     "text": [
      "10/14/2020 21:08:01 - doggmentator - INFO - Generating 2 aug examples from 10570 orig examples\n"
     ]
    },
    {
     "name": "stdout",
     "output_type": "stream",
     "text": [
      "\n"
     ]
    },
    {
     "name": "stderr",
     "output_type": "stream",
     "text": [
      "10/14/2020 21:08:01 - doggmentator - INFO - Generated 0 examples\n"
     ]
    }
   ],
   "source": [
    "# Instantiate the Dataset object.\n",
    "from doggmentator.augment.augment_squad import SQuADDataset\n",
    "generator = SQuADDataset(data, **hparams)\n",
    "\n",
    "# Generate augmented examples according to the perturbation distribution: 20% synonyms, 40% misspellings, 40% drop terms. The perturbed examples will be generated for each original example until the total number defined by the sample_ratio is reached.\n",
    "generator.generate()"
   ]
  },
  {
   "cell_type": "code",
   "execution_count": 9,
   "metadata": {},
   "outputs": [
    {
     "data": {
      "text/plain": [
       "{'version': '1.1',\n",
       " 'data': [{'title': 'Black_Death',\n",
       "   'paragraphs': [{'context': 'Plague was reportedly first introduced to Europe via Genoese traders at the port city of Kaffa in the Crimea in 1347. After a protracted siege, during which the Mongol army under Jani Beg was suffering from the disease, the army catapulted the infected corpses over the city walls of Kaffa to infect the inhabitants. The Genoese traders fled, taking the plague by ship into Sicily and the south of Europe, whence it spread north. Whether or not this hypothesis is accurate, it is clear that several existing conditions such as war, famine, and weather contributed to the severity of the Black Death.',\n",
       "     'qas': [{'answers': [{'answer_start': 244, 'text': 'infected corpses'},\n",
       "        {'answer_start': 244, 'text': 'infected corpses'},\n",
       "        {'answer_start': 244, 'text': 'infected corpses'}],\n",
       "       'question': 'What did the Mongol army thow in their catapults?',\n",
       "       'orig_id': '57264845f1498d1400e8db0c',\n",
       "       'title_id': 20,\n",
       "       'context_id': 890,\n",
       "       'id': '57264845f1498d1400e8db0c1',\n",
       "       'aug_type': 'misspelling'},\n",
       "      {'answers': [{'answer_start': 244, 'text': 'infected corpses'},\n",
       "        {'answer_start': 244, 'text': 'infected corpses'},\n",
       "        {'answer_start': 244, 'text': 'infected corpses'}],\n",
       "       'question': ['What did the Mongol army thow their catapults?'],\n",
       "       'orig_id': '57264845f1498d1400e8db0c',\n",
       "       'title_id': 20,\n",
       "       'context_id': 890,\n",
       "       'id': '57264845f1498d1400e8db0c0',\n",
       "       'aug_type': 'misspelling'}]}]}]}"
      ]
     },
     "execution_count": 9,
     "metadata": {},
     "output_type": "execute_result"
    }
   ],
   "source": [
    "generator()"
   ]
  },
  {
   "cell_type": "code",
   "execution_count": null,
   "metadata": {},
   "outputs": [],
   "source": []
  }
 ],
 "metadata": {
  "kernelspec": {
   "display_name": "Python 3",
   "language": "python",
   "name": "python3"
  },
  "language_info": {
   "codemirror_mode": {
    "name": "ipython",
    "version": 3
   },
   "file_extension": ".py",
   "mimetype": "text/x-python",
   "name": "python",
   "nbconvert_exporter": "python",
   "pygments_lexer": "ipython3",
   "version": "3.7.0"
  }
 },
 "nbformat": 4,
 "nbformat_minor": 4
}
