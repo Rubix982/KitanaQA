{
 "cells": [
  {
   "cell_type": "code",
   "execution_count": 3,
   "metadata": {},
   "outputs": [],
   "source": [
    "# This example covers the basics of augmenting an existing SQuAD-like dataset with various types of noise."
   ]
  },
  {
   "cell_type": "code",
   "execution_count": 46,
   "metadata": {},
   "outputs": [],
   "source": [
    "from transformers.data.processors.squad import SquadResult, SquadV1Processor, SquadV2Processor, squad_convert_examples_to_features"
   ]
  },
  {
   "cell_type": "code",
   "execution_count": 1,
   "metadata": {},
   "outputs": [
    {
     "ename": "NameError",
     "evalue": "name 'pkg_resources' is not defined",
     "output_type": "error",
     "traceback": [
      "\u001b[0;31m---------------------------------------------------------------------------\u001b[0m",
      "\u001b[0;31mNameError\u001b[0m                                 Traceback (most recent call last)",
      "\u001b[0;32m<ipython-input-1-398ee32438dd>\u001b[0m in \u001b[0;36m<module>\u001b[0;34m\u001b[0m\n\u001b[1;32m      1\u001b[0m \u001b[0;31m# Load SQuAD dev set from package\u001b[0m\u001b[0;34m\u001b[0m\u001b[0;34m\u001b[0m\u001b[0m\n\u001b[0;32m----> 2\u001b[0;31m data_file = pkg_resources.resource_filename(\n\u001b[0m\u001b[1;32m      3\u001b[0m             'doggmentator', 'support/dev-v1.1.json')\n\u001b[1;32m      4\u001b[0m \u001b[0;32mwith\u001b[0m \u001b[0mopen\u001b[0m\u001b[0;34m(\u001b[0m\u001b[0mdata_file\u001b[0m\u001b[0;34m,\u001b[0m \u001b[0;34m'r'\u001b[0m\u001b[0;34m)\u001b[0m \u001b[0;32mas\u001b[0m \u001b[0mf\u001b[0m\u001b[0;34m:\u001b[0m\u001b[0;34m\u001b[0m\u001b[0m\n\u001b[1;32m      5\u001b[0m     \u001b[0mdata\u001b[0m \u001b[0;34m=\u001b[0m \u001b[0mjson\u001b[0m\u001b[0;34m.\u001b[0m\u001b[0mload\u001b[0m\u001b[0;34m(\u001b[0m\u001b[0mf\u001b[0m\u001b[0;34m)\u001b[0m\u001b[0;34m\u001b[0m\u001b[0m\n",
      "\u001b[0;31mNameError\u001b[0m: name 'pkg_resources' is not defined"
     ]
    }
   ],
   "source": [
    "# Load SQuAD dev set from package\n",
    "import pkg_resources\n",
    "import json\n",
    "data_file = pkg_resources.resource_filename(\n",
    "            'doggmentator', 'support/dev-v1.1.json')\n",
    "with open(data_file, 'r') as f:\n",
    "    data = json.load(f)"
   ]
  },
  {
   "cell_type": "code",
   "execution_count": null,
   "metadata": {},
   "outputs": [],
   "source": [
    "# Define augmentation parameters\n",
    "hparams = {\n",
    "    \"num_replacements\": 2,  # Replace up to 2 terms in the original question for each example\n",
    "    \"sample_ratio\":     0.0001,  # Generate augmentations for 0.1% of original dataset size\n",
    "    \"sampling_strategy\":'random',  # Randomly sample replacement tokens (excluding entities)\n",
    "    \"sampling_k\":       5,  # Only consider the 5 highest importance scores across tokens\n",
    "    \"is_training\":      False,  # Using dev dataset\n",
    "    \"out_prefix\":       'dev',\n",
    "    \"save_freq\":        2,\n",
    "    \"p_misspelling\":    1,  # Unnormalized sampling weight for misspelling perturbation\n",
    "    \"p_replace\":        0.5,  # Unnormalized sampling weight for w2v synonym perturbation\n",
    "    \"p_dropword\":       1,  # Unnormalized sampling weight for drop term perturbation\n",
    "    \"from_checkpoint\":  False,  # Do not load progress from local checkpoint\n",
    "}"
   ]
  },
  {
   "cell_type": "code",
   "execution_count": 2,
   "metadata": {},
   "outputs": [
    {
     "ename": "NameError",
     "evalue": "name 'SQuADDataset' is not defined",
     "output_type": "error",
     "traceback": [
      "\u001b[0;31m---------------------------------------------------------------------------\u001b[0m",
      "\u001b[0;31mNameError\u001b[0m                                 Traceback (most recent call last)",
      "\u001b[0;32m<ipython-input-2-f33bb25ccdda>\u001b[0m in \u001b[0;36m<module>\u001b[0;34m\u001b[0m\n\u001b[0;32m----> 1\u001b[0;31m \u001b[0mgenerator\u001b[0m \u001b[0;34m=\u001b[0m \u001b[0mSQuADDataset\u001b[0m\u001b[0;34m(\u001b[0m\u001b[0mdata\u001b[0m\u001b[0;34m,\u001b[0m \u001b[0;34m**\u001b[0m\u001b[0mhparams\u001b[0m\u001b[0;34m)\u001b[0m\u001b[0;34m\u001b[0m\u001b[0m\n\u001b[0m",
      "\u001b[0;31mNameError\u001b[0m: name 'SQuADDataset' is not defined"
     ]
    }
   ],
   "source": [
    "# Instantiate the Dataset object.\n",
    "from doggmentator.augment.augment_squad import SQuADDataset\n",
    "generator = SQuADDataset(data, **hparams)\n",
    "\n",
    "# Generate augmented examples according to the perturbation distribution: 20% synonyms, 40% misspellings, 40% drop terms. The perturbed examples will be generated for each original example until the total number defined by the sample_ratio is reached.\n",
    "generator.generate()"
   ]
  },
  {
   "cell_type": "code",
   "execution_count": 49,
   "metadata": {},
   "outputs": [],
   "source": [
    "generator()"
   ]
  }
 ],
 "metadata": {
  "kernelspec": {
   "display_name": "Python 3",
   "language": "python",
   "name": "python3"
  },
  "language_info": {
   "codemirror_mode": {
    "name": "ipython",
    "version": 3
   },
   "file_extension": ".py",
   "mimetype": "text/x-python",
   "name": "python",
   "nbconvert_exporter": "python",
   "pygments_lexer": "ipython3",
   "version": "3.7.0"
  }
 },
 "nbformat": 4,
 "nbformat_minor": 4
}
