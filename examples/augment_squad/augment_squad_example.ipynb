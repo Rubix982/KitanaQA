{
 "cells": [
  {
   "cell_type": "code",
   "execution_count": 1,
   "metadata": {},
   "outputs": [],
   "source": [
    "# This example covers the basics of augmenting an existing SQuAD-like dataset with various types of noise."
   ]
  },
  {
   "cell_type": "code",
   "execution_count": 2,
   "metadata": {},
   "outputs": [],
   "source": [
    "from transformers.data.processors.squad import SquadResult, SquadV1Processor, SquadV2Processor, squad_convert_examples_to_features"
   ]
  },
  {
   "cell_type": "code",
   "execution_count": 3,
   "metadata": {},
   "outputs": [],
   "source": [
    "# Load SQuAD dev set from package\n",
    "import pkg_resources\n",
    "import json\n",
    "data_file = pkg_resources.resource_filename(\n",
    "            'kitanaqa', 'support/dev-v1.1.json')\n",
    "with open(data_file, 'r') as f:\n",
    "    data = json.load(f)"
   ]
  },
  {
   "cell_type": "code",
   "execution_count": 4,
   "metadata": {},
   "outputs": [],
   "source": [
    "# Define augmentation parameters\n",
    "hparams = {\n",
    "    \"num_replacements\": 2,  # Replace up to 2 terms in the original question for each example\n",
    "    \"sample_ratio\":     0.0001,  # Generate augmentations for 0.1% of original dataset size\n",
    "    \"sampling_strategy\":'random',  # Randomly sample replacement tokens (excluding entities)\n",
    "    \"sampling_k\":       5,  # Only consider the 5 highest importance scores across tokens\n",
    "    \"is_training\":      False,  # Using dev dataset\n",
    "    \"out_prefix\":       'dev',\n",
    "    \"save_freq\":        1000,\n",
    "    \"p_misspelling\":    1,  # Unnormalized sampling weight for misspelling perturbation\n",
    "    \"p_replace\":        0.5,  # Unnormalized sampling weight for w2v synonym perturbation\n",
    "    \"p_dropword\":       1,  # Unnormalized sampling weight for drop term perturbation\n",
    "    \"from_checkpoint\":  False,  # Do not load progress from local checkpoint\n",
    "}"
   ]
  },
  {
   "cell_type": "code",
   "execution_count": 6,
   "metadata": {},
   "outputs": [
    {
     "name": "stderr",
     "output_type": "stream",
     "text": [
      "[nltk_data] Downloading package stopwords to\n",
      "[nltk_data]     /Users/asisto/nltk_data...\n",
      "[nltk_data]   Package stopwords is already up-to-date!\n",
      "11/12/2020 18:28:38 - kitanaqa - INFO - Running SQuADDataset with hparams {'num_replacements': 2, 'sample_ratio': 0.0001, 'p_replace': 0.5, 'p_dropword': 1, 'p_misspelling': 1, 'sampling_strategy': 'random', 'sampling_k': 5}\n",
      "11/12/2020 18:28:38 - kitanaqa - DEBUG - generators.py: loading pkg data /Users/asisto/dev/Searchable/Research/KitanaQA/src/kitanaqa/support/counter-fitted-vectors.txt\n",
      "11/12/2020 18:28:45 - kitanaqa - DEBUG - generators.py: loading pkg data /Users/asisto/dev/Searchable/Research/KitanaQA/src/kitanaqa/support/missp.json\n",
      "11/12/2020 18:28:45 - kitanaqa - INFO - Generating 2 aug examples from 10570 orig examples\n"
     ]
    }
   ],
   "source": [
    "# Instantiate the Dataset object.\n",
    "from kitanaqa.augment.augment_squad import SQuADDataset\n",
    "generator = SQuADDataset(data, **hparams)\n",
    "\n",
    "# Generate augmented examples according to the perturbation distribution: 20% synonyms, 40% misspellings, 40% drop terms. The perturbed examples will be generated for each original example until the total number defined by the sample_ratio is reached.\n",
    "generator.generate()"
   ]
  },
  {
   "cell_type": "code",
   "execution_count": 7,
   "metadata": {},
   "outputs": [
    {
     "data": {
      "text/plain": [
       "{'version': '1.1',\n",
       " 'data': [{'title': 'Oxygen',\n",
       "   'paragraphs': [{'context': 'Highly concentrated sources of oxygen promote rapid combustion. Fire and explosion hazards exist when concentrated oxidants and fuels are brought into close proximity; an ignition event, such as heat or a spark, is needed to trigger combustion. Oxygen is the oxidant, not the fuel, but nevertheless the source of most of the chemical energy released in combustion. Combustion hazards also apply to compounds of oxygen with a high oxidative potential, such as peroxides, chlorates, nitrates, perchlorates, and dichromates because they can donate oxygen to a fire.',\n",
       "     'qas': [{'answers': [{'answer_start': 46, 'text': 'rapid combustion'},\n",
       "        {'answer_start': 46, 'text': 'rapid combustion'},\n",
       "        {'answer_start': 46, 'text': 'rapid combustion'},\n",
       "        {'answer_start': 46, 'text': 'rapid combustion'},\n",
       "        {'answer_start': 46, 'text': 'rapid combustion'}],\n",
       "       'question': 'What can focused oxygen produce?',\n",
       "       'orig_id': '571cebc05efbb31900334e48',\n",
       "       'title_id': 12,\n",
       "       'context_id': 625,\n",
       "       'id': '571cebc05efbb31900334e481',\n",
       "       'aug_type': 'synonym'},\n",
       "      {'answers': [{'answer_start': 46, 'text': 'rapid combustion'},\n",
       "        {'answer_start': 46, 'text': 'rapid combustion'},\n",
       "        {'answer_start': 46, 'text': 'rapid combustion'},\n",
       "        {'answer_start': 46, 'text': 'rapid combustion'},\n",
       "        {'answer_start': 46, 'text': 'rapid combustion'}],\n",
       "       'question': ['What focused oxygen produce?'],\n",
       "       'orig_id': '571cebc05efbb31900334e48',\n",
       "       'title_id': 12,\n",
       "       'context_id': 625,\n",
       "       'id': '571cebc05efbb31900334e480',\n",
       "       'aug_type': 'synonym'}]}]}]}"
      ]
     },
     "execution_count": 7,
     "metadata": {},
     "output_type": "execute_result"
    }
   ],
   "source": [
    "generator()"
   ]
  },
  {
   "cell_type": "code",
   "execution_count": null,
   "metadata": {},
   "outputs": [],
   "source": []
  }
 ],
 "metadata": {
  "kernelspec": {
   "display_name": "Python 3",
   "language": "python",
   "name": "python3"
  },
  "language_info": {
   "codemirror_mode": {
    "name": "ipython",
    "version": 3
   },
   "file_extension": ".py",
   "mimetype": "text/x-python",
   "name": "python",
   "nbconvert_exporter": "python",
   "pygments_lexer": "ipython3",
   "version": "3.7.0"
  }
 },
 "nbformat": 4,
 "nbformat_minor": 4
}
