{
 "cells": [
  {
   "cell_type": "code",
   "execution_count": 3,
   "metadata": {},
   "outputs": [
    {
     "name": "stderr",
     "output_type": "stream",
     "text": [
      "10/15/2020 11:12:11 - doggmentator - DEBUG - generators.py: loading pkg data /Users/asisto/dev/Searchable/Research/Doggmentator/src/doggmentator/support/missp.json\n"
     ]
    },
    {
     "name": "stdout",
     "output_type": "stream",
     "text": [
      "recognize_entities_dl download started this may take some time.\n",
      "Approx size to download 159 MB\n",
      "[OK!]\n"
     ]
    }
   ],
   "source": [
    "# Different perturbations may be combined to control the level of noise to introduce to an input string.\n",
    "# For example, here we combine misspelling and drop word perturbations in a single input sentence.\n",
    "\n",
    "from doggmentator.augment.term_replacement import ReplaceTerms\n",
    "\n",
    "# First we apply a misspelling replacement\n",
    "p = ReplaceTerms(rep_type=\"misspelling\")\n",
    "sent = \"I was born in a small town\"\n",
    "num_terms = 1\n",
    "num_output_sents = 1\n",
    "sent = p.replace_terms(sent, num_replacements=num_terms, num_output_sents=num_output_sents)[0]"
   ]
  },
  {
   "cell_type": "code",
   "execution_count": 4,
   "metadata": {},
   "outputs": [
    {
     "data": {
      "text/plain": [
       "'I was born in a small toun'"
      ]
     },
     "execution_count": 4,
     "metadata": {},
     "output_type": "execute_result"
    }
   ],
   "source": [
    "sent"
   ]
  },
  {
   "cell_type": "code",
   "execution_count": 12,
   "metadata": {},
   "outputs": [],
   "source": [
    "from doggmentator.augment.term_replacement import DropTerms\n",
    "\n",
    "# Next we apply a drop word replacement\n",
    "p = DropTerms()\n",
    "sent = \"I was born in a small town\"\n",
    "sent = p.drop_terms(sent, num_terms=num_terms, num_output_sents=num_output_sents)"
   ]
  },
  {
   "cell_type": "code",
   "execution_count": 13,
   "metadata": {},
   "outputs": [
    {
     "data": {
      "text/plain": [
       "['I was born a small town']"
      ]
     },
     "execution_count": 13,
     "metadata": {},
     "output_type": "execute_result"
    }
   ],
   "source": [
    "sent"
   ]
  }
 ],
 "metadata": {
  "kernelspec": {
   "display_name": "Python 3",
   "language": "python",
   "name": "python3"
  },
  "language_info": {
   "codemirror_mode": {
    "name": "ipython",
    "version": 3
   },
   "file_extension": ".py",
   "mimetype": "text/x-python",
   "name": "python",
   "nbconvert_exporter": "python",
   "pygments_lexer": "ipython3",
   "version": "3.7.0"
  }
 },
 "nbformat": 4,
 "nbformat_minor": 4
}
