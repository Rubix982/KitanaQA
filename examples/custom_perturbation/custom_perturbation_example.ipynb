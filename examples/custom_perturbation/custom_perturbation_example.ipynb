{
 "cells": [
  {
   "cell_type": "code",
   "execution_count": 1,
   "metadata": {},
   "outputs": [
    {
     "name": "stderr",
     "output_type": "stream",
     "text": [
      "[nltk_data] Downloading package stopwords to\n",
      "[nltk_data]     /Users/asisto/nltk_data...\n",
      "[nltk_data]   Package stopwords is already up-to-date!\n",
      "11/12/2020 18:30:44 - kitanaqa - DEBUG - generators.py: loading pkg data /Users/asisto/dev/Searchable/Research/KitanaQA/src/kitanaqa/support/missp.json\n"
     ]
    }
   ],
   "source": [
    "# Different perturbations may be combined to control the level of noise to introduce to an input string.\n",
    "# For example, here we combine misspelling and drop word perturbations in a single input sentence.\n",
    "\n",
    "from kitanaqa.augment.term_replacement import ReplaceTerms\n",
    "\n",
    "# First we apply a misspelling replacement\n",
    "p = ReplaceTerms(rep_type=\"misspelling\")\n",
    "sent = \"I was born in a small town\"\n",
    "num_terms = 1\n",
    "num_output_sents = 1\n",
    "sent = p.replace_terms(sent, num_replacements=num_terms, num_output_sents=num_output_sents)[0]"
   ]
  },
  {
   "cell_type": "code",
   "execution_count": 2,
   "metadata": {},
   "outputs": [
    {
     "data": {
      "text/plain": [
       "'Im was born in a small town'"
      ]
     },
     "execution_count": 2,
     "metadata": {},
     "output_type": "execute_result"
    }
   ],
   "source": [
    "sent"
   ]
  },
  {
   "cell_type": "code",
   "execution_count": 3,
   "metadata": {},
   "outputs": [],
   "source": [
    "from kitanaqa.augment.term_replacement import DropTerms\n",
    "\n",
    "# Next we apply a drop word replacement\n",
    "p = DropTerms()\n",
    "sent = p.drop_terms(sent, num_terms=num_terms, num_output_sents=num_output_sents)"
   ]
  },
  {
   "cell_type": "code",
   "execution_count": 4,
   "metadata": {},
   "outputs": [
    {
     "data": {
      "text/plain": [
       "['Im was born a small town']"
      ]
     },
     "execution_count": 4,
     "metadata": {},
     "output_type": "execute_result"
    }
   ],
   "source": [
    "sent"
   ]
  }
 ],
 "metadata": {
  "kernelspec": {
   "display_name": "Python 3",
   "language": "python",
   "name": "python3"
  },
  "language_info": {
   "codemirror_mode": {
    "name": "ipython",
    "version": 3
   },
   "file_extension": ".py",
   "mimetype": "text/x-python",
   "name": "python",
   "nbconvert_exporter": "python",
   "pygments_lexer": "ipython3",
   "version": "3.7.0"
  }
 },
 "nbformat": 4,
 "nbformat_minor": 4
}
